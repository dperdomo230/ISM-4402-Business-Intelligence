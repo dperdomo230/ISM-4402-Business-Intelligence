{
 "cells": [
  {
   "cell_type": "code",
   "execution_count": 4,
   "metadata": {},
   "outputs": [
    {
     "data": {
      "text/plain": [
       "3.9229229229229228"
      ]
     },
     "execution_count": 4,
     "metadata": {},
     "output_type": "execute_result"
    }
   ],
   "source": [
    "# Average cars sold per month \n",
    "import pandas as pd\n",
    "Location = r\"C:\\Users\\dperd\\OneDrive\\Desktop\\ISM 4402\\datasets\\datasets\\axisdata.csv\"\n",
    "df = pd.read_csv(Location)\n",
    "df['Cars Sold'].mean() # arithmetic average "
   ]
  },
  {
   "cell_type": "code",
   "execution_count": 6,
   "metadata": {},
   "outputs": [
    {
     "data": {
      "text/plain": [
       "7"
      ]
     },
     "execution_count": 6,
     "metadata": {},
     "output_type": "execute_result"
    }
   ],
   "source": [
    "# Max cars sold per month\n",
    "import pandas as pd\n",
    "Location = r\"C:\\Users\\dperd\\OneDrive\\Desktop\\ISM 4402\\datasets\\datasets\\axisdata.csv\"\n",
    "df = pd.read_csv(Location)\n",
    "df['Cars Sold'].max() # maximum"
   ]
  },
  {
   "cell_type": "code",
   "execution_count": 7,
   "metadata": {},
   "outputs": [
    {
     "data": {
      "text/plain": [
       "1"
      ]
     },
     "execution_count": 7,
     "metadata": {},
     "output_type": "execute_result"
    }
   ],
   "source": [
    "# Min cars sold per month\n",
    "import pandas as pd\n",
    "Location = r\"C:\\Users\\dperd\\OneDrive\\Desktop\\ISM 4402\\datasets\\datasets\\axisdata.csv\"\n",
    "df = pd.read_csv(Location)\n",
    "df['Cars Sold'].min() #minimum"
   ]
  },
  {
   "cell_type": "code",
   "execution_count": 49,
   "metadata": {},
   "outputs": [
    {
     "data": {
      "text/html": [
       "<div>\n",
       "<style scoped>\n",
       "    .dataframe tbody tr th:only-of-type {\n",
       "        vertical-align: middle;\n",
       "    }\n",
       "\n",
       "    .dataframe tbody tr th {\n",
       "        vertical-align: top;\n",
       "    }\n",
       "\n",
       "    .dataframe thead th {\n",
       "        text-align: right;\n",
       "    }\n",
       "</style>\n",
       "<table border=\"1\" class=\"dataframe\">\n",
       "  <thead>\n",
       "    <tr style=\"text-align: right;\">\n",
       "      <th></th>\n",
       "      <th>Cars Sold</th>\n",
       "    </tr>\n",
       "    <tr>\n",
       "      <th>Gender</th>\n",
       "      <th></th>\n",
       "    </tr>\n",
       "  </thead>\n",
       "  <tbody>\n",
       "    <tr>\n",
       "      <th>F</th>\n",
       "      <td>3.760736</td>\n",
       "    </tr>\n",
       "    <tr>\n",
       "      <th>M</th>\n",
       "      <td>4.078431</td>\n",
       "    </tr>\n",
       "  </tbody>\n",
       "</table>\n",
       "</div>"
      ],
      "text/plain": [
       "        Cars Sold\n",
       "Gender           \n",
       "F        3.760736\n",
       "M        4.078431"
      ]
     },
     "execution_count": 49,
     "metadata": {},
     "output_type": "execute_result"
    }
   ],
   "source": [
    "# Average cars sold per month by gender \n",
    "import pandas as pd\n",
    "Location = r\"C:\\Users\\dperd\\OneDrive\\Desktop\\ISM 4402\\datasets\\datasets\\axisdata.csv\"\n",
    "df = pd.read_csv(Location)\n",
    "pd.pivot_table(df,\n",
    " values=['Cars Sold'],\n",
    " aggfunc='mean',\n",
    " index=['Gender'])"
   ]
  },
  {
   "cell_type": "code",
   "execution_count": 43,
   "metadata": {},
   "outputs": [
    {
     "data": {
      "text/plain": [
       "34.740237691001695"
      ]
     },
     "execution_count": 43,
     "metadata": {},
     "output_type": "execute_result"
    }
   ],
   "source": [
    "# Average hours worked by people selling more than three cars per month\n",
    "import pandas as pd\n",
    "Location = r\"C:\\Users\\dperd\\OneDrive\\Desktop\\ISM 4402\\datasets\\datasets\\axisdata.csv\"\n",
    "df = pd.read_csv(Location)\n",
    "df.loc[df['Cars Sold']>3]['Hours Worked'].mean()"
   ]
  },
  {
   "cell_type": "code",
   "execution_count": 30,
   "metadata": {},
   "outputs": [
    {
     "data": {
      "text/plain": [
       "3.026026026026026"
      ]
     },
     "execution_count": 30,
     "metadata": {},
     "output_type": "execute_result"
    }
   ],
   "source": [
    "# Average years of experience\n",
    "import pandas as pd\n",
    "Location = r\"C:\\Users\\dperd\\OneDrive\\Desktop\\ISM 4402\\datasets\\datasets\\axisdata.csv\"\n",
    "df = pd.read_csv(Location)\n",
    "df['Years Experience'].mean() # arithmetic average"
   ]
  },
  {
   "cell_type": "code",
   "execution_count": 44,
   "metadata": {},
   "outputs": [
    {
     "data": {
      "text/plain": [
       "3.0492359932088284"
      ]
     },
     "execution_count": 44,
     "metadata": {},
     "output_type": "execute_result"
    }
   ],
   "source": [
    "# Average years of experience for people selling more than three cars per month\n",
    "import pandas as pd\n",
    "Location = r\"C:\\Users\\dperd\\OneDrive\\Desktop\\ISM 4402\\datasets\\datasets\\axisdata.csv\"\n",
    "df = pd.read_csv(Location)\n",
    "df.loc[df['Cars Sold']>3]['Years Experience'].mean()"
   ]
  },
  {
   "cell_type": "code",
   "execution_count": 6,
   "metadata": {},
   "outputs": [
    {
     "data": {
      "text/plain": [
       "4.1689419795221845"
      ]
     },
     "execution_count": 6,
     "metadata": {},
     "output_type": "execute_result"
    }
   ],
   "source": [
    "# Average cars sold per month sorted by whether they have had sales training\n",
    "import pandas as pd\n",
    "Location = r\"C:\\Users\\dperd\\OneDrive\\Desktop\\ISM 4402\\datasets\\datasets\\axisdata.csv\"\n",
    "df = pd.read_csv(Location)\n",
    "df.loc[df['SalesTraining']=='Y']['Cars Sold'].mean()"
   ]
  },
  {
   "cell_type": "code",
   "execution_count": 67,
   "metadata": {},
   "outputs": [
    {
     "data": {
      "text/plain": [
       "Text(0.5, 1.0, 'Histogram of cars sold')"
      ]
     },
     "execution_count": 67,
     "metadata": {},
     "output_type": "execute_result"
    },
    {
     "data": {
      "image/png": "[encoded data removed]",
      "text/plain": [
       "<Figure size 432x288 with 1 Axes>"
      ]
     },
     "metadata": {
      "needs_background": "light"
     },
     "output_type": "display_data"
    }
   ],
   "source": [
    "# Histogram depicting how many cars sold and the associated frequency of employees \n",
    "import matplotlib.pyplot as plt\n",
    "import pandas as pd\n",
    "%matplotlib inline\n",
    "Location = r\"C:\\Users\\dperd\\OneDrive\\Desktop\\ISM 4402\\datasets\\datasets\\axisdata.csv\"\n",
    "df.hist(column=\"Cars Sold\")\n",
    "plt.ylabel(\"Frequency of Employees\", fontsize=8)\n",
    "plt.xlabel(\"Average Cars Sold per Month\", fontsize=8)\n",
    "plt.title(\"Histogram of cars sold\")"
   ]
  },
  {
   "cell_type": "code",
   "execution_count": 66,
   "metadata": {},
   "outputs": [
    {
     "data": {
      "image/png": "[encoded data removed]",
      "text/plain": [
       "<Figure size 432x288 with 1 Axes>"
      ]
     },
     "metadata": {
      "needs_background": "light"
     },
     "output_type": "display_data"
    }
   ],
   "source": [
    "# Boxplot displaying how many cars sold based on employee sales training \n",
    "import matplotlib.pyplot as plt\n",
    "import pandas as pd\n",
    "%matplotlib inline\n",
    "Location = r\"C:\\Users\\dperd\\OneDrive\\Desktop\\ISM 4402\\datasets\\datasets\\axisdata.csv\"\n",
    "df = pd.read_csv(Location)\n",
    "axis1 = df.boxplot(by='SalesTraining', column='Cars Sold')\n",
    "axis1.set_ylim(0,10)\n",
    "plt.ylabel('Cars Sold')\n",
    "plt.xlabel('Sales Training')\n",
    "plt.title('Boxplot based on cars sold and sales Training')\n",
    "plt.suptitle('');"
   ]
  },
  {
   "cell_type": "code",
   "execution_count": null,
   "metadata": {},
   "outputs": [],
   "source": []
  }
 ],
 "metadata": {
  "kernelspec": {
   "display_name": "Python 3",
   "language": "python",
   "name": "python3"
  },
  "language_info": {
   "codemirror_mode": {
    "name": "ipython",
    "version": 3
   },
   "file_extension": ".py",
   "mimetype": "text/x-python",
   "name": "python",
   "nbconvert_exporter": "python",
   "pygments_lexer": "ipython3",
   "version": "3.8.3"
  }
 },
 "nbformat": 4,
 "nbformat_minor": 4
}
